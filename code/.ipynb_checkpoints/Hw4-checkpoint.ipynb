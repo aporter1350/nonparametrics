{
 "cells": [
  {
   "cell_type": "markdown",
   "metadata": {},
   "source": [
    "**4.1 Find the order of each of the following expressions as $n\\rightarrow \\infty$**\n",
    "\n",
    "*(a)* $\\frac{2}{n} + \\frac{3\\log(n)}{n^2}$\n",
    "\n",
    "*(b)* $\\frac{4n^2+1}{(n+1)^2}$\n",
    "\n",
    "*(c)* $O(n^2)O(\\frac{1}{n})+4$\n",
    "\n",
    "*(d)* $O(\\frac{1}{n^2}+O(\\frac{1}{\\sqrt{n}}+O(1)$\n",
    "\n",
    "\n",
    "\n",
    "**4.2**\n",
    "\n",
    "*(a) Let X denote a random variable with a Poisson distribution with mean $lambda$; that is, X has a discrete distribution with frequency function*\n",
    "\n",
    "$\\frac{\\lambda exp(-\\lambda)}{x!}, x=0,1,2,.....$\n",
    "\n",
    "Find the order of \n",
    "\n",
    "$\\frac{Pr(X=n+1)}{Pr(X=n)}$ as $n\\rightarrow \\infty$\n",
    "\n",
    "*(b) Let Y denote a random variable with a Poisson distribution with mean $n\\lambda$; for instance, Y might be the sum of n independent Poisson random variables each with mean $\\lambda$ Find the order of*\n",
    "\n",
    "$\\frac{Pr(Y=n+1)}{Pr(Y=n)}$ as $n\\rightarrow \\infty$\n",
    "\n"
   ]
  },
  {
   "cell_type": "code",
   "execution_count": null,
   "metadata": {},
   "outputs": [],
   "source": []
  },
  {
   "cell_type": "markdown",
   "metadata": {},
   "source": [
    "**4.3 Let $X_!,X_2,.....X_!00$ denote independent random variables, each with a continuous distribution with density function**\n",
    "\n",
    "$px(x)=\\frac{3}{2}(x-1)^2, 0<x<2$\n",
    "\n",
    "and let $Y_1,Y_2,....Y_100$ denote independent random variables each with a continuous distribution with density function\n",
    "\n",
    "$py(y)=\\frac{3}{8}(y)^2, 0<y<2$\n",
    "\n",
    "Suppose that a histogram is constructed for each set of data, using a bin width of h=0 in both cases (that is, the binds are (0,.1), (.1,.2,),..) and let $\\hat{p}XH(.)$ and $\\hat{p}YH(.)$ denote the corresponding histogram density estimators \n",
    "\n",
    "*(a) Use the AIMSE to determine which estimator do you expect to be more accurate? That is, do you expect $\\hat{p}XH(.)$ to be a better estimate of $px(x)$ and $\\hat{p}YH(.)$ to be a better estimate of $py(y)$? Ord do you expect the reverse to be true?*\n",
    "\n",
    "*(b) Now suppose that we are primarily interested in estimating the density at the argument 1; that is, we want to estimate either $px(1)$ or $py(1)$. Using the leading terms in the expansions for the MSE of  $\\hat{p}XH(.)$ and $\\hat{p}YH(.)$, do you expect  $\\hat{p}XH(1)$ to be a better estimator of $px(1)$ than $\\hat{p}YH(1)$ is of $py(1)$? Or do you expect the reverse to be true? Why?*\n",
    "\n"
   ]
  },
  {
   "cell_type": "code",
   "execution_count": null,
   "metadata": {},
   "outputs": [],
   "source": []
  },
  {
   "cell_type": "markdown",
   "metadata": {},
   "source": [
    "**4.4 Consider the failure data for a software system. Construct a histogram for the data, choosing the bind width using the Freedman-Diaconis method. Compare the number of binds corresponding to the Freedman-Diaconis bin width to the number of bins you chose in Exercise 3.5**"
   ]
  },
  {
   "cell_type": "code",
   "execution_count": null,
   "metadata": {},
   "outputs": [],
   "source": []
  },
  {
   "cell_type": "markdown",
   "metadata": {},
   "source": [
    "**4.5 Consider the failure data. Construct four kernel density estimates for these data, using values of the smoothing parameter of 1,4,8, and 12, respectively and a Gaussian kernel. Which of the estimates appears to give the bets summarization of the data? In answering this question keep in mind the fact that the data are necessarily non-negative**\n",
    "\n"
   ]
  },
  {
   "cell_type": "code",
   "execution_count": null,
   "metadata": {},
   "outputs": [],
   "source": []
  },
  {
   "cell_type": "markdown",
   "metadata": {},
   "source": [
    "**4.6 Consider the scores on the peabody dataset.**\n",
    "\n",
    "*(a) Construct a kernel density estimate for these data, using a Gaussian kernel. Consider four possible values for the smoothing parameter h, 2, 3, 4, 5. Choose the best value of the smoothing parameter h subjectively and plot the estimate corresponding to your choise. Which value of h did you choose?*\n",
    "\n",
    "*(b) For the density plot constructed in part a include a plot of the normal dnesity function with mean $\\mu$ and standard deviation $\\sigma$ with the value $\\mu$ and $\\sigma$ taken to be the estimate based on the peabody data. Based on this plot do the peabody scores appear for the chidlren in the study appear to be normally distributed?*"
   ]
  },
  {
   "cell_type": "code",
   "execution_count": null,
   "metadata": {},
   "outputs": [],
   "source": []
  }
 ],
 "metadata": {
  "kernelspec": {
   "display_name": "R 3.3",
   "language": "R",
   "name": "ir33"
  },
  "language_info": {
   "codemirror_mode": "r",
   "file_extension": ".r",
   "mimetype": "text/x-r-source",
   "name": "R",
   "pygments_lexer": "r",
   "version": "3.5.2"
  }
 },
 "nbformat": 4,
 "nbformat_minor": 2
}
