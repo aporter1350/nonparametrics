{
 "cells": [
  {
   "cell_type": "code",
   "execution_count": 2,
   "metadata": {},
   "outputs": [],
   "source": [
    "import pandas as pd\n",
    "\n",
    "homocides=pd.read_csv('/Users/aporter1350/Documents/Courses/Spring2020/nonparametrics/data/Homicides.csv')\n",
    "\n",
    "#homocides=pd.read_csv('/Users/Alexis/Documents/Spring2020/nonparametrics/data/Homicides.csv')\n",
    "#homocides['Date']=pd.to_datetime(homocides['Date'])\n",
    "homocides['Month'] = pd.DatetimeIndex(homocides['Date']).month"
   ]
  },
  {
   "cell_type": "code",
   "execution_count": 3,
   "metadata": {},
   "outputs": [],
   "source": [
    "murder=homocides[['Domestic', 'Arrest','Year', 'Month']]\n",
    "#Murder rate\n",
    "df=murder.groupby(['Year', 'Month']).size().reset_index(name='MurderRate')\n",
    "#number of arrests\n",
    "arrests=murder.groupby(['Year', 'Month','Arrest']).size().reset_index(name='Arrested')\n",
    "arrests=arrests[arrests.Arrest!=False]\n",
    "arrests.drop('Arrest', axis=1, inplace=True)\n",
    "#number of domestic murders\n",
    "dom=murder.groupby(['Year', 'Month','Domestic']).size().reset_index(name='DomesticViolence')\n",
    "dom=dom[dom.Domestic!=False]\n",
    "dom.drop('Domestic', axis=1, inplace=True)\n",
    "\n",
    "tempDF=pd.merge(df, arrests, on=['Month', 'Year'])\n",
    "murderDF=pd.merge(tempDF, dom, on=['Month', 'Year'])"
   ]
  },
  {
   "cell_type": "code",
   "execution_count": 5,
   "metadata": {},
   "outputs": [],
   "source": [
    "#gdp=pd.read_csv('/Users/Alexis/Documents/Spring2020/nonparametrics/data/GDP.csv')\n",
    "gdp=pd.read_csv('/Users/aporter1350/Documents/Courses/Spring2020/nonparametrics/data/GDP.csv')\n",
    "gdp['Month'] = pd.DatetimeIndex(gdp['DATE']).month\n",
    "gdp['Year'] = pd.DatetimeIndex(gdp['DATE']).year\n",
    "unemp=pd.read_csv('/Users/aporter1350/Documents/Courses/Spring2020/nonparametrics/data/unemp_chi_adjusted.csv')\n",
    "unemp[['Month', 'Year']]=unemp.Date.str.split(\"-\", expand=True)\n",
    "unemp['Month'] = pd.to_datetime(unemp.Month, format='%b').dt.month\n",
    "unemp['Year'] = pd.to_datetime(unemp.Year, format='%y').dt.year\n",
    "unemp.drop('Date', axis=1, inplace=True)"
   ]
  },
  {
   "cell_type": "code",
   "execution_count": 6,
   "metadata": {},
   "outputs": [],
   "source": [
    "result=pd.merge(murderDF, unemp, on=['Month', 'Year'])\n",
    "result['President'] = ['Republican' if x<2008 or x>2016 else 'Democrat' for x in result['Year']] \n",
    "result['Govenor'] = ['Republican' if x<2003 or 2014<x<2019 else 'Democrat' for x in result['Year']] \n",
    "#0 rep 1 dem\n",
    "result['dum_President'] = [0 if x<2008 or x>2016 else 1 for x in result['Year']] \n",
    "result['dum_Govenor'] = [0 if x<2003 or 2014<x<2019 else 1 for x in result['Year']] \n",
    "\n"
   ]
  },
  {
   "cell_type": "code",
   "execution_count": 8,
   "metadata": {},
   "outputs": [],
   "source": [
    "#result.to_csv('/Users/Alexis/Documents/Spring2020/nonparametrics/data/emp_project.csv',index=False)\n",
    "result.to_csv('/Users/aporter1350/Documents/Courses/Spring2020/nonparametrics/data/emp_project.csv',index=False)"
   ]
  },
  {
   "cell_type": "code",
   "execution_count": 244,
   "metadata": {},
   "outputs": [],
   "source": [
    "gdp_df=pd.merge(result, gdp, on=['Month', 'Year'])\n",
    "gdp_df['President'] = ['Republican' if x<2008 or x>2016 else 'Democrat' for x in gdp_df['Year']] \n",
    "gdp_df['Govenor'] = ['Republican' if x<2003 or 2014<x<2019 else 'Democrat' for x in gdp_df['Year']] \n",
    "\n"
   ]
  },
  {
   "cell_type": "code",
   "execution_count": 245,
   "metadata": {},
   "outputs": [],
   "source": [
    "gdp_df.to_csv('/Users/Alexis/Documents/Spring2020/nonparametrics/data/gdp_project.csv',index=False)"
   ]
  },
  {
   "cell_type": "code",
   "execution_count": 249,
   "metadata": {},
   "outputs": [
    {
     "data": {
      "text/plain": [
       "21729.124"
      ]
     },
     "execution_count": 249,
     "metadata": {},
     "output_type": "execute_result"
    }
   ],
   "source": [
    "max(gdp_df['GDP'])\n",
    "\n",
    "\n"
   ]
  },
  {
   "cell_type": "code",
   "execution_count": 226,
   "metadata": {},
   "outputs": [
    {
     "data": {
      "text/html": [
       "<div>\n",
       "<style scoped>\n",
       "    .dataframe tbody tr th:only-of-type {\n",
       "        vertical-align: middle;\n",
       "    }\n",
       "\n",
       "    .dataframe tbody tr th {\n",
       "        vertical-align: top;\n",
       "    }\n",
       "\n",
       "    .dataframe thead th {\n",
       "        text-align: right;\n",
       "    }\n",
       "</style>\n",
       "<table border=\"1\" class=\"dataframe\">\n",
       "  <thead>\n",
       "    <tr style=\"text-align: right;\">\n",
       "      <th></th>\n",
       "      <th>DATE</th>\n",
       "      <th>GDP</th>\n",
       "      <th>Month</th>\n",
       "      <th>Year</th>\n",
       "      <th>Party</th>\n",
       "      <th>Govenor</th>\n",
       "    </tr>\n",
       "  </thead>\n",
       "  <tbody>\n",
       "    <tr>\n",
       "      <th>0</th>\n",
       "      <td>2001-01-01</td>\n",
       "      <td>10472.879</td>\n",
       "      <td>1</td>\n",
       "      <td>2001</td>\n",
       "      <td>Republican</td>\n",
       "      <td>Republican</td>\n",
       "    </tr>\n",
       "    <tr>\n",
       "      <th>1</th>\n",
       "      <td>2001-04-01</td>\n",
       "      <td>10597.822</td>\n",
       "      <td>4</td>\n",
       "      <td>2001</td>\n",
       "      <td>Republican</td>\n",
       "      <td>Republican</td>\n",
       "    </tr>\n",
       "    <tr>\n",
       "      <th>2</th>\n",
       "      <td>2001-07-01</td>\n",
       "      <td>10596.294</td>\n",
       "      <td>7</td>\n",
       "      <td>2001</td>\n",
       "      <td>Republican</td>\n",
       "      <td>Republican</td>\n",
       "    </tr>\n",
       "    <tr>\n",
       "      <th>3</th>\n",
       "      <td>2001-10-01</td>\n",
       "      <td>10660.294</td>\n",
       "      <td>10</td>\n",
       "      <td>2001</td>\n",
       "      <td>Republican</td>\n",
       "      <td>Republican</td>\n",
       "    </tr>\n",
       "    <tr>\n",
       "      <th>4</th>\n",
       "      <td>2002-01-01</td>\n",
       "      <td>10788.952</td>\n",
       "      <td>1</td>\n",
       "      <td>2002</td>\n",
       "      <td>Republican</td>\n",
       "      <td>Republican</td>\n",
       "    </tr>\n",
       "    <tr>\n",
       "      <th>...</th>\n",
       "      <td>...</td>\n",
       "      <td>...</td>\n",
       "      <td>...</td>\n",
       "      <td>...</td>\n",
       "      <td>...</td>\n",
       "      <td>...</td>\n",
       "    </tr>\n",
       "    <tr>\n",
       "      <th>72</th>\n",
       "      <td>2019-01-01</td>\n",
       "      <td>21098.827</td>\n",
       "      <td>1</td>\n",
       "      <td>2019</td>\n",
       "      <td>Republican</td>\n",
       "      <td>Democrat</td>\n",
       "    </tr>\n",
       "    <tr>\n",
       "      <th>73</th>\n",
       "      <td>2019-04-01</td>\n",
       "      <td>21340.267</td>\n",
       "      <td>4</td>\n",
       "      <td>2019</td>\n",
       "      <td>Republican</td>\n",
       "      <td>Democrat</td>\n",
       "    </tr>\n",
       "    <tr>\n",
       "      <th>74</th>\n",
       "      <td>2019-07-01</td>\n",
       "      <td>21542.540</td>\n",
       "      <td>7</td>\n",
       "      <td>2019</td>\n",
       "      <td>Republican</td>\n",
       "      <td>Democrat</td>\n",
       "    </tr>\n",
       "    <tr>\n",
       "      <th>75</th>\n",
       "      <td>2019-10-01</td>\n",
       "      <td>21729.124</td>\n",
       "      <td>10</td>\n",
       "      <td>2019</td>\n",
       "      <td>Republican</td>\n",
       "      <td>Democrat</td>\n",
       "    </tr>\n",
       "    <tr>\n",
       "      <th>76</th>\n",
       "      <td>2020-01-01</td>\n",
       "      <td>21537.940</td>\n",
       "      <td>1</td>\n",
       "      <td>2020</td>\n",
       "      <td>Republican</td>\n",
       "      <td>Democrat</td>\n",
       "    </tr>\n",
       "  </tbody>\n",
       "</table>\n",
       "<p>77 rows × 6 columns</p>\n",
       "</div>"
      ],
      "text/plain": [
       "          DATE        GDP  Month  Year       Party     Govenor\n",
       "0   2001-01-01  10472.879      1  2001  Republican  Republican\n",
       "1   2001-04-01  10597.822      4  2001  Republican  Republican\n",
       "2   2001-07-01  10596.294      7  2001  Republican  Republican\n",
       "3   2001-10-01  10660.294     10  2001  Republican  Republican\n",
       "4   2002-01-01  10788.952      1  2002  Republican  Republican\n",
       "..         ...        ...    ...   ...         ...         ...\n",
       "72  2019-01-01  21098.827      1  2019  Republican    Democrat\n",
       "73  2019-04-01  21340.267      4  2019  Republican    Democrat\n",
       "74  2019-07-01  21542.540      7  2019  Republican    Democrat\n",
       "75  2019-10-01  21729.124     10  2019  Republican    Democrat\n",
       "76  2020-01-01  21537.940      1  2020  Republican    Democrat\n",
       "\n",
       "[77 rows x 6 columns]"
      ]
     },
     "execution_count": 226,
     "metadata": {},
     "output_type": "execute_result"
    }
   ],
   "source": [
    "gdp"
   ]
  },
  {
   "cell_type": "code",
   "execution_count": null,
   "metadata": {},
   "outputs": [],
   "source": []
  }
 ],
 "metadata": {
  "kernelspec": {
   "display_name": "Python 3",
   "language": "python",
   "name": "python3"
  },
  "language_info": {
   "codemirror_mode": {
    "name": "ipython",
    "version": 3
   },
   "file_extension": ".py",
   "mimetype": "text/x-python",
   "name": "python",
   "nbconvert_exporter": "python",
   "pygments_lexer": "ipython3",
   "version": "3.7.1"
  }
 },
 "nbformat": 4,
 "nbformat_minor": 2
}
